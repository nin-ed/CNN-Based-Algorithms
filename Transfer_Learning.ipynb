{
  "nbformat": 4,
  "nbformat_minor": 0,
  "metadata": {
    "colab": {
      "name": "Transfer_Learning.ipynb",
      "provenance": [],
      "collapsed_sections": [],
      "include_colab_link": true
    },
    "kernelspec": {
      "name": "python3",
      "display_name": "Python 3"
    },
    "accelerator": "GPU"
  },
  "cells": [
    {
      "cell_type": "markdown",
      "metadata": {
        "id": "view-in-github",
        "colab_type": "text"
      },
      "source": [
        "<a href=\"https://colab.research.google.com/github/nin-ed/Neural-Network-Algorithms/blob/hacktoberfest/Transfer_Learning.ipynb\" target=\"_parent\"><img src=\"https://colab.research.google.com/assets/colab-badge.svg\" alt=\"Open In Colab\"/></a>"
      ]
    },
    {
      "cell_type": "code",
      "metadata": {
        "id": "GhfXG40-GZS2"
      },
      "source": [
        "from torchvision import models, transforms, datasets\n",
        "import torch\n",
        "from torch import nn, optim\n",
        "from zipfile import ZipFile"
      ],
      "execution_count": null,
      "outputs": []
    },
    {
      "cell_type": "code",
      "metadata": {
        "id": "9LOAK64W6jJ7",
        "outputId": "6aa3610d-13bb-46f9-ab08-032043792e17",
        "colab": {
          "base_uri": "https://localhost:8080/",
          "height": 52
        }
      },
      "source": [
        "with ZipFile('/content/drive/My Drive/Cat_Dog_data.zip', 'r') as f:\n",
        "  print(\"Extracting...\")\n",
        "  f.extractall()\n",
        "  print(\"Done\")"
      ],
      "execution_count": null,
      "outputs": [
        {
          "output_type": "stream",
          "text": [
            "Extracting...\n",
            "Done\n"
          ],
          "name": "stdout"
        }
      ]
    },
    {
      "cell_type": "code",
      "metadata": {
        "id": "G_aGMc0p2NHr"
      },
      "source": [
        "train_transform = transforms.Compose([transforms.RandomRotation(30),\n",
        "                                      transforms.RandomResizedCrop(224),\n",
        "                                      transforms.RandomHorizontalFlip(),\n",
        "                                      transforms.ToTensor(),\n",
        "                                      transforms.Normalize([0.485, 0.456, 0.406], [0.229, 0.224, 0.225])])\n",
        "\n",
        "test_transform = transforms.Compose([transforms.RandomRotation(30),\n",
        "                                     transforms.CenterCrop(224),\n",
        "                                     transforms.ToTensor(),\n",
        "                                     transforms.Normalize([0.485, 0.456, 0.406], [0.229, 0.224, 0.225])])"
      ],
      "execution_count": null,
      "outputs": []
    },
    {
      "cell_type": "code",
      "metadata": {
        "id": "qoCxv0vQ2QRh"
      },
      "source": [
        "def Network(in_s, ou_s, hid, drop_p=0.2):\n",
        "    modules = []\n",
        "    modules.append(nn.Linear(in_s, hid[0]))\n",
        "    modules.append(nn.ReLU())\n",
        "    modules.append(nn.Dropout(p=drop_p))\n",
        "    for i in range(1,len(hid)):\n",
        "        modules.append(nn.Linear(hid[i-1], hid[i]))\n",
        "        modules.append(nn.ReLU())\n",
        "        modules.append(nn.Dropout(p=drop_p))\n",
        "    modules.append(nn.Linear(hid[-1], ou_s))\n",
        "    modules.append(nn.LogSoftmax(dim=1))\n",
        "    model = nn.Sequential(*modules)\n",
        "    return model"
      ],
      "execution_count": null,
      "outputs": []
    },
    {
      "cell_type": "code",
      "metadata": {
        "id": "xNq3leuC42NY"
      },
      "source": [
        "def train(model, criterion, optimizer, trainloader, testloader, epochs, print_every):\n",
        "    train_losses, test_losses = [], []\n",
        "    for e in range(epochs):\n",
        "        train_loss = 0\n",
        "        for images, labels in trainloader:\n",
        "            #images = images.view(images.shape[0], -1)\n",
        "            images, labels = images.cuda(), labels.cuda()\n",
        "            optimizer.zero_grad()\n",
        "            output = model.forward(images)\n",
        "            loss = criterion(output, labels)\n",
        "            loss.backward()\n",
        "            optimizer.step()\n",
        "            train_loss += loss.item()\n",
        "\n",
        "        model.eval()\n",
        "        test_loss, accuracy = validate(model, criterion, testloader)\n",
        "        train_losses.append(train_loss / len(trainloader))\n",
        "        test_losses.append(test_loss / len(testloader))\n",
        "        model.train()\n",
        "\n",
        "        if (e+1)%(print_every) == 0:\n",
        "            print(f\"----- Epoch {e+1} -----\")\n",
        "            print(f\"Training Loss: {train_loss/len(trainloader)}\")\n",
        "            print(f\"Testing Loss: {test_loss / len(testloader)}\")\n",
        "            print(f\"Accuracy: {accuracy/len(testloader)}\")\n",
        "\n",
        "    torch.save(model.state_dict(), '/content/drive/My Drive/trl.pt')\n",
        "\n",
        "    return train_losses, test_losses"
      ],
      "execution_count": null,
      "outputs": []
    },
    {
      "cell_type": "code",
      "metadata": {
        "id": "E8MIXvxU48zA"
      },
      "source": [
        "def validate(model, criterion, testloader):\n",
        "    accuracy = 0\n",
        "    test_loss = 0\n",
        "    with torch.no_grad():\n",
        "        for images, labels in testloader:\n",
        "            #images = images.view(images.shape[0], -1)\n",
        "            images, labels = images.cuda(), labels.cuda()\n",
        "            output = model.forward(images)\n",
        "            loss = criterion(output, labels)\n",
        "            prob = torch.exp(output)\n",
        "            top_prob, top_class = prob.topk(1, dim=1)\n",
        "            equal = top_class == labels.view(*top_class.shape)\n",
        "            test_loss += loss.item()\n",
        "            accuracy += torch.mean(equal.type(torch.FloatTensor))\n",
        "\n",
        "    return test_loss, accuracy"
      ],
      "execution_count": null,
      "outputs": []
    },
    {
      "cell_type": "code",
      "metadata": {
        "id": "1bQrdMxn4_Mq"
      },
      "source": [
        "train_data = datasets.ImageFolder('/content/Cat_Dog_data/train', transform=train_transform)\n",
        "test_data = datasets.ImageFolder('/content/Cat_Dog_data/test', transform=test_transform)\n",
        "trainloader = torch.utils.data.DataLoader(train_data, batch_size=64, shuffle=True)\n",
        "testloader = torch.utils.data.DataLoader(test_data, batch_size=64)\n",
        "model = models.densenet121(pretrained=True)\n",
        "for par in model.parameters():\n",
        "  par.requires_grad = False\n",
        "\n",
        "model.classifier = Network(1024, 2, [512, 128])\n",
        "model.classifier = model.classifier.cuda()\n",
        "criterion = nn.NLLLoss()\n",
        "optimizer = optim.Adam(model.classifier.parameters(), lr=0.003)"
      ],
      "execution_count": null,
      "outputs": []
    },
    {
      "cell_type": "code",
      "metadata": {
        "id": "MVHnYU3p-7sG",
        "outputId": "c8b3789b-d0f1-47b8-c4bf-7514fe9d69de",
        "colab": {
          "base_uri": "https://localhost:8080/",
          "height": 537
        }
      },
      "source": [
        "train(model, criterion, optimizer, trainloader, testloader, epochs=5, print_every=1)"
      ],
      "execution_count": null,
      "outputs": [
        {
          "output_type": "stream",
          "text": [
            "----- Epoch 1 -----\n",
            "Training Loss: 0.19998923711351713\n",
            "Testing Loss: 0.09366109278053045\n",
            "Accuracy: 0.963671863079071\n",
            "----- Epoch 2 -----\n",
            "Training Loss: 0.15959029117683796\n",
            "Testing Loss: 0.08828865165123716\n",
            "Accuracy: 0.9652343988418579\n",
            "----- Epoch 3 -----\n",
            "Training Loss: 0.14766563604247163\n",
            "Testing Loss: 0.08671727925539016\n",
            "Accuracy: 0.967578113079071\n",
            "----- Epoch 4 -----\n",
            "Training Loss: 0.1386322686237029\n",
            "Testing Loss: 0.10929568593855947\n",
            "Accuracy: 0.958203136920929\n",
            "----- Epoch 5 -----\n",
            "Training Loss: 0.14204392504391514\n",
            "Testing Loss: 0.0760832099678737\n",
            "Accuracy: 0.9683593511581421\n"
          ],
          "name": "stdout"
        },
        {
          "output_type": "execute_result",
          "data": {
            "text/plain": [
              "([0.19998923711351713,\n",
              "  0.15959029117683796,\n",
              "  0.14766563604247163,\n",
              "  0.1386322686237029,\n",
              "  0.14204392504391514],\n",
              " [0.09366109278053045,\n",
              "  0.08828865165123716,\n",
              "  0.08671727925539016,\n",
              "  0.10929568593855947,\n",
              "  0.0760832099678737])"
            ]
          },
          "metadata": {
            "tags": []
          },
          "execution_count": 24
        }
      ]
    },
    {
      "cell_type": "code",
      "metadata": {
        "id": "9xFEpFRK_Pdn"
      },
      "source": [
        ""
      ],
      "execution_count": null,
      "outputs": []
    }
  ]
}