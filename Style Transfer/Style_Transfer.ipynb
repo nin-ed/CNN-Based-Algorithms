{
  "nbformat": 4,
  "nbformat_minor": 0,
  "metadata": {
    "colab": {
      "name": "Style_Transfer.ipynb",
      "provenance": [],
      "mount_file_id": "1jqryplsrEYCqAeEygW0sFJ1emmfqyy1v",
      "authorship_tag": "ABX9TyOd2Jn541k9Y/yD0NZG1jXz",
      "include_colab_link": true
    },
    "kernelspec": {
      "name": "python3",
      "display_name": "Python 3"
    },
    "accelerator": "GPU"
  },
  "cells": [
    {
      "cell_type": "markdown",
      "metadata": {
        "id": "view-in-github",
        "colab_type": "text"
      },
      "source": [
        "<a href=\"https://colab.research.google.com/github/nin-ed/CNN-Based-Algorithms/blob/main/Style%20Transfer/Style_Transfer.ipynb\" target=\"_parent\"><img src=\"https://colab.research.google.com/assets/colab-badge.svg\" alt=\"Open In Colab\"/></a>"
      ]
    },
    {
      "cell_type": "code",
      "metadata": {
        "id": "u0sUjx5rV-cg"
      },
      "source": [
        "from PIL import Image\r\n",
        "import matplotlib.pyplot as plt\r\n",
        "import torch\r\n",
        "from torch import optim, nn\r\n",
        "from torchvision import transforms, models\r\n",
        "from torchvision.utils import save_image"
      ],
      "execution_count": 51,
      "outputs": []
    },
    {
      "cell_type": "code",
      "metadata": {
        "id": "RiHXnWIvWGh2"
      },
      "source": [
        "mean = (0.485, 0.456, 0.406)\r\n",
        "std = (0.229, 0.224, 0.225)"
      ],
      "execution_count": 52,
      "outputs": []
    },
    {
      "cell_type": "code",
      "metadata": {
        "id": "SdJvueW9WiFn"
      },
      "source": [
        "def load_image(img, size):\r\n",
        "    img = Image.open(img).convert('RGB')\r\n",
        "    \"\"\"transform = transforms.Compose([transforms.Resize(size), transforms.ToTensor(),\r\n",
        "                                    transforms.Normalize(mean, std)])\"\"\"\r\n",
        "    transform = transforms.Compose([transforms.Resize(size), transforms.ToTensor()])\r\n",
        "    img = transform(img)[:3, :, :].unsqueeze(0)\r\n",
        "    return img.cuda()\r\n",
        "\r\n",
        "\r\n",
        "class Net(nn.Module):\r\n",
        "    def __init__(self):\r\n",
        "        super(Net, self).__init__()\r\n",
        "        self.layers = [0, 5, 10, 19, 28]\r\n",
        "        self.vgg = models.vgg19(pretrained=True).features[:29]\r\n",
        "    \r\n",
        "    def forward(self, x):\r\n",
        "        feat = []\r\n",
        "        for n, l in enumerate(self.vgg):\r\n",
        "            x = l(x)\r\n",
        "            if n in self.layers:\r\n",
        "                feat.append(x)\r\n",
        "        return feat"
      ],
      "execution_count": 58,
      "outputs": []
    },
    {
      "cell_type": "code",
      "metadata": {
        "id": "lwgaffFEbX0m"
      },
      "source": [
        "def content_loss(orig, gen):\r\n",
        "    loss = torch.mean((gen-orig)**2)\r\n",
        "    return loss\r\n",
        "\r\n",
        "\r\n",
        "def style_loss(style, gen):\r\n",
        "    _, ch, h, w = gen.shape\r\n",
        "    G = torch.mm(gen.view(ch, h*w), gen.view(ch, h*w).t())\r\n",
        "    A = torch.mm(style.view(ch, h*w), style.view(ch, h*w).t())\r\n",
        "    loss = torch.mean((G-A)**2)\r\n",
        "    return loss\r\n",
        "\r\n",
        "\r\n",
        "def total_loss(orig, gen, style, alpha, beta):\r\n",
        "    c_loss, s_loss = 0, 0\r\n",
        "    for o, g, s in zip(orig, gen, style):\r\n",
        "        c_loss += content_loss(o, g)\r\n",
        "        s_loss += style_loss(s, g)\r\n",
        "\r\n",
        "    loss = alpha*c_loss + beta*s_loss\r\n",
        "    return loss"
      ],
      "execution_count": 59,
      "outputs": []
    },
    {
      "cell_type": "code",
      "metadata": {
        "id": "uOA9VdubyRzO"
      },
      "source": [
        "orig = load_image(\"/content/drive/MyDrive/elon.jpg\", (400, 400))\r\n",
        "style = load_image(\"/content/drive/MyDrive/painting.jpeg\", (400, 400))\r\n",
        "gen = orig.clone().requires_grad_(True)\r\n",
        "\r\n",
        "model = Net()\r\n",
        "model = model.cuda()\r\n",
        "\r\n",
        "optimizer = optim.Adam([gen], lr=0.001)"
      ],
      "execution_count": 60,
      "outputs": []
    },
    {
      "cell_type": "code",
      "metadata": {
        "colab": {
          "base_uri": "https://localhost:8080/"
        },
        "id": "MMPg6E0N1yr0",
        "outputId": "d2622b0b-c170-4d2b-bc93-03c4e02e44c6"
      },
      "source": [
        "# epochs = 1000\r\n",
        "epochs = 5000\r\n",
        "\r\n",
        "for e in range(1, epochs+1):\r\n",
        "    optimizer.zero_grad()\r\n",
        "    orig_f = model(orig)\r\n",
        "    gen_f = model(gen)\r\n",
        "    style_f = model(style)\r\n",
        "    loss = total_loss(orig_f, gen_f, style_f, 8, 70)\r\n",
        "    loss.backward()\r\n",
        "    optimizer.step()\r\n",
        "    if e%100 == 0:\r\n",
        "        print(f\"Epoch: {e}/{epochs} ----- Loss: {loss}\")"
      ],
      "execution_count": 61,
      "outputs": [
        {
          "output_type": "stream",
          "text": [
            "Epoch: 100/5000 ----- Loss: 340674464.0\n",
            "Epoch: 200/5000 ----- Loss: 190711616.0\n",
            "Epoch: 300/5000 ----- Loss: 129543328.0\n",
            "Epoch: 400/5000 ----- Loss: 92197520.0\n",
            "Epoch: 500/5000 ----- Loss: 68308768.0\n",
            "Epoch: 600/5000 ----- Loss: 53612144.0\n",
            "Epoch: 700/5000 ----- Loss: 44953228.0\n",
            "Epoch: 800/5000 ----- Loss: 39816036.0\n",
            "Epoch: 900/5000 ----- Loss: 36487272.0\n",
            "Epoch: 1000/5000 ----- Loss: 34048548.0\n",
            "Epoch: 1100/5000 ----- Loss: 32068578.0\n",
            "Epoch: 1200/5000 ----- Loss: 30361578.0\n",
            "Epoch: 1300/5000 ----- Loss: 28834100.0\n",
            "Epoch: 1400/5000 ----- Loss: 27439322.0\n",
            "Epoch: 1500/5000 ----- Loss: 26154044.0\n",
            "Epoch: 1600/5000 ----- Loss: 24964186.0\n",
            "Epoch: 1700/5000 ----- Loss: 23852160.0\n",
            "Epoch: 1800/5000 ----- Loss: 22802932.0\n",
            "Epoch: 1900/5000 ----- Loss: 21808264.0\n",
            "Epoch: 2000/5000 ----- Loss: 20862132.0\n",
            "Epoch: 2100/5000 ----- Loss: 19960242.0\n",
            "Epoch: 2200/5000 ----- Loss: 19097154.0\n",
            "Epoch: 2300/5000 ----- Loss: 18269216.0\n",
            "Epoch: 2400/5000 ----- Loss: 17473028.0\n",
            "Epoch: 2500/5000 ----- Loss: 16707001.0\n",
            "Epoch: 2600/5000 ----- Loss: 15968289.0\n",
            "Epoch: 2700/5000 ----- Loss: 15256421.0\n",
            "Epoch: 2800/5000 ----- Loss: 14570725.0\n",
            "Epoch: 2900/5000 ----- Loss: 13911459.0\n",
            "Epoch: 3000/5000 ----- Loss: 13276663.0\n",
            "Epoch: 3100/5000 ----- Loss: 12667586.0\n",
            "Epoch: 3200/5000 ----- Loss: 12083431.0\n",
            "Epoch: 3300/5000 ----- Loss: 11524417.0\n",
            "Epoch: 3400/5000 ----- Loss: 10991207.0\n",
            "Epoch: 3500/5000 ----- Loss: 10485185.0\n",
            "Epoch: 3600/5000 ----- Loss: 10003138.0\n",
            "Epoch: 3700/5000 ----- Loss: 9548055.0\n",
            "Epoch: 3800/5000 ----- Loss: 9115356.0\n",
            "Epoch: 3900/5000 ----- Loss: 8704479.0\n",
            "Epoch: 4000/5000 ----- Loss: 8310209.5\n",
            "Epoch: 4100/5000 ----- Loss: 7951390.0\n",
            "Epoch: 4200/5000 ----- Loss: 7599049.0\n",
            "Epoch: 4300/5000 ----- Loss: 7292167.0\n",
            "Epoch: 4400/5000 ----- Loss: 6975450.5\n",
            "Epoch: 4500/5000 ----- Loss: 6702026.5\n",
            "Epoch: 4600/5000 ----- Loss: 6430983.5\n",
            "Epoch: 4700/5000 ----- Loss: 6178571.0\n",
            "Epoch: 4800/5000 ----- Loss: 5934150.5\n",
            "Epoch: 4900/5000 ----- Loss: 5714744.5\n",
            "Epoch: 5000/5000 ----- Loss: 5526442.0\n"
          ],
          "name": "stdout"
        }
      ]
    },
    {
      "cell_type": "code",
      "metadata": {
        "id": "7tjgPiZB2Z0_"
      },
      "source": [
        "save_image(gen, \"/content/sample_data/elon1.png\")"
      ],
      "execution_count": 62,
      "outputs": []
    },
    {
      "cell_type": "code",
      "metadata": {
        "id": "YZofjwi83Q3J"
      },
      "source": [
        ""
      ],
      "execution_count": null,
      "outputs": []
    }
  ]
}